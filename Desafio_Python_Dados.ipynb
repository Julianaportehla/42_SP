{
  "nbformat": 4,
  "nbformat_minor": 0,
  "metadata": {
    "colab": {
      "provenance": [],
      "authorship_tag": "ABX9TyMHZm3YShFtjZ6Be/lL1Hcc",
      "include_colab_link": true
    },
    "kernelspec": {
      "name": "python3",
      "display_name": "Python 3"
    },
    "language_info": {
      "name": "python"
    }
  },
  "cells": [
    {
      "cell_type": "markdown",
      "metadata": {
        "id": "view-in-github",
        "colab_type": "text"
      },
      "source": [
        "<a href=\"https://colab.research.google.com/github/Julianaportehla/42_SP/blob/main/Desafio_Python_Dados.ipynb\" target=\"_parent\"><img src=\"https://colab.research.google.com/assets/colab-badge.svg\" alt=\"Open In Colab\"/></a>"
      ]
    },
    {
      "cell_type": "markdown",
      "source": [
        "#Python para Dados - Desafio Final"
      ],
      "metadata": {
        "id": "wZDULuQ-4VP6"
      }
    },
    {
      "cell_type": "code",
      "execution_count": null,
      "metadata": {
        "id": "6fnyVgQi3HbY"
      },
      "outputs": [],
      "source": [
        "import pandas as pd\n",
        "import numpy as np"
      ]
    },
    {
      "cell_type": "code",
      "source": [
        "df = pd.read_csv('/content/saude_do_sono_estilo_vida.csv')"
      ],
      "metadata": {
        "id": "YWa31rfS3WGb"
      },
      "execution_count": null,
      "outputs": []
    },
    {
      "cell_type": "code",
      "source": [
        "df.head()"
      ],
      "metadata": {
        "colab": {
          "base_uri": "https://localhost:8080/",
          "height": 276
        },
        "id": "tYLUtGny4FAc",
        "outputId": "f042e679-b47e-40f9-eaf1-93c282685218"
      },
      "execution_count": null,
      "outputs": [
        {
          "output_type": "execute_result",
          "data": {
            "text/plain": [
              "   ID Gênero  Idade                 Ocupação  Duração do sono  \\\n",
              "0   1  Homem     27         Eng. de Software              6.1   \n",
              "1   2  Homem     28                Médico(a)              6.2   \n",
              "2   3  Homem     28                Médico(a)              6.2   \n",
              "3   4  Homem     28  Representante de Vendas              5.9   \n",
              "4   5  Homem     28  Representante de Vendas              5.9   \n",
              "\n",
              "   Qualidade do sono  Nível de atividade física  Nível de estresse  \\\n",
              "0                  6                         42                  6   \n",
              "1                  6                         60                  8   \n",
              "2                  6                         60                  8   \n",
              "3                  4                         30                  8   \n",
              "4                  4                         30                  8   \n",
              "\n",
              "  Categoria BMI Pressão sanguíneaaaa  Frequência cardíaca  Passos diários  \\\n",
              "0     Sobrepeso               126/83                   77            4200   \n",
              "1        Normal               125/80                   75           10000   \n",
              "2        Normal               125/80                   75           10000   \n",
              "3     Obesidade               140/90                   85            3000   \n",
              "4     Obesidade               140/90                   85            3000   \n",
              "\n",
              "  Distúrbio do sono  \n",
              "0           Nenhuma  \n",
              "1           Nenhuma  \n",
              "2           Nenhuma  \n",
              "3    Apneia do sono  \n",
              "4    Apneia do sono  "
            ],
            "text/html": [
              "\n",
              "  <div id=\"df-c4e657e7-962e-4945-a95f-2b430975c97d\" class=\"colab-df-container\">\n",
              "    <div>\n",
              "<style scoped>\n",
              "    .dataframe tbody tr th:only-of-type {\n",
              "        vertical-align: middle;\n",
              "    }\n",
              "\n",
              "    .dataframe tbody tr th {\n",
              "        vertical-align: top;\n",
              "    }\n",
              "\n",
              "    .dataframe thead th {\n",
              "        text-align: right;\n",
              "    }\n",
              "</style>\n",
              "<table border=\"1\" class=\"dataframe\">\n",
              "  <thead>\n",
              "    <tr style=\"text-align: right;\">\n",
              "      <th></th>\n",
              "      <th>ID</th>\n",
              "      <th>Gênero</th>\n",
              "      <th>Idade</th>\n",
              "      <th>Ocupação</th>\n",
              "      <th>Duração do sono</th>\n",
              "      <th>Qualidade do sono</th>\n",
              "      <th>Nível de atividade física</th>\n",
              "      <th>Nível de estresse</th>\n",
              "      <th>Categoria BMI</th>\n",
              "      <th>Pressão sanguíneaaaa</th>\n",
              "      <th>Frequência cardíaca</th>\n",
              "      <th>Passos diários</th>\n",
              "      <th>Distúrbio do sono</th>\n",
              "    </tr>\n",
              "  </thead>\n",
              "  <tbody>\n",
              "    <tr>\n",
              "      <th>0</th>\n",
              "      <td>1</td>\n",
              "      <td>Homem</td>\n",
              "      <td>27</td>\n",
              "      <td>Eng. de Software</td>\n",
              "      <td>6.1</td>\n",
              "      <td>6</td>\n",
              "      <td>42</td>\n",
              "      <td>6</td>\n",
              "      <td>Sobrepeso</td>\n",
              "      <td>126/83</td>\n",
              "      <td>77</td>\n",
              "      <td>4200</td>\n",
              "      <td>Nenhuma</td>\n",
              "    </tr>\n",
              "    <tr>\n",
              "      <th>1</th>\n",
              "      <td>2</td>\n",
              "      <td>Homem</td>\n",
              "      <td>28</td>\n",
              "      <td>Médico(a)</td>\n",
              "      <td>6.2</td>\n",
              "      <td>6</td>\n",
              "      <td>60</td>\n",
              "      <td>8</td>\n",
              "      <td>Normal</td>\n",
              "      <td>125/80</td>\n",
              "      <td>75</td>\n",
              "      <td>10000</td>\n",
              "      <td>Nenhuma</td>\n",
              "    </tr>\n",
              "    <tr>\n",
              "      <th>2</th>\n",
              "      <td>3</td>\n",
              "      <td>Homem</td>\n",
              "      <td>28</td>\n",
              "      <td>Médico(a)</td>\n",
              "      <td>6.2</td>\n",
              "      <td>6</td>\n",
              "      <td>60</td>\n",
              "      <td>8</td>\n",
              "      <td>Normal</td>\n",
              "      <td>125/80</td>\n",
              "      <td>75</td>\n",
              "      <td>10000</td>\n",
              "      <td>Nenhuma</td>\n",
              "    </tr>\n",
              "    <tr>\n",
              "      <th>3</th>\n",
              "      <td>4</td>\n",
              "      <td>Homem</td>\n",
              "      <td>28</td>\n",
              "      <td>Representante de Vendas</td>\n",
              "      <td>5.9</td>\n",
              "      <td>4</td>\n",
              "      <td>30</td>\n",
              "      <td>8</td>\n",
              "      <td>Obesidade</td>\n",
              "      <td>140/90</td>\n",
              "      <td>85</td>\n",
              "      <td>3000</td>\n",
              "      <td>Apneia do sono</td>\n",
              "    </tr>\n",
              "    <tr>\n",
              "      <th>4</th>\n",
              "      <td>5</td>\n",
              "      <td>Homem</td>\n",
              "      <td>28</td>\n",
              "      <td>Representante de Vendas</td>\n",
              "      <td>5.9</td>\n",
              "      <td>4</td>\n",
              "      <td>30</td>\n",
              "      <td>8</td>\n",
              "      <td>Obesidade</td>\n",
              "      <td>140/90</td>\n",
              "      <td>85</td>\n",
              "      <td>3000</td>\n",
              "      <td>Apneia do sono</td>\n",
              "    </tr>\n",
              "  </tbody>\n",
              "</table>\n",
              "</div>\n",
              "    <div class=\"colab-df-buttons\">\n",
              "\n",
              "  <div class=\"colab-df-container\">\n",
              "    <button class=\"colab-df-convert\" onclick=\"convertToInteractive('df-c4e657e7-962e-4945-a95f-2b430975c97d')\"\n",
              "            title=\"Convert this dataframe to an interactive table.\"\n",
              "            style=\"display:none;\">\n",
              "\n",
              "  <svg xmlns=\"http://www.w3.org/2000/svg\" height=\"24px\" viewBox=\"0 -960 960 960\">\n",
              "    <path d=\"M120-120v-720h720v720H120Zm60-500h600v-160H180v160Zm220 220h160v-160H400v160Zm0 220h160v-160H400v160ZM180-400h160v-160H180v160Zm440 0h160v-160H620v160ZM180-180h160v-160H180v160Zm440 0h160v-160H620v160Z\"/>\n",
              "  </svg>\n",
              "    </button>\n",
              "\n",
              "  <style>\n",
              "    .colab-df-container {\n",
              "      display:flex;\n",
              "      gap: 12px;\n",
              "    }\n",
              "\n",
              "    .colab-df-convert {\n",
              "      background-color: #E8F0FE;\n",
              "      border: none;\n",
              "      border-radius: 50%;\n",
              "      cursor: pointer;\n",
              "      display: none;\n",
              "      fill: #1967D2;\n",
              "      height: 32px;\n",
              "      padding: 0 0 0 0;\n",
              "      width: 32px;\n",
              "    }\n",
              "\n",
              "    .colab-df-convert:hover {\n",
              "      background-color: #E2EBFA;\n",
              "      box-shadow: 0px 1px 2px rgba(60, 64, 67, 0.3), 0px 1px 3px 1px rgba(60, 64, 67, 0.15);\n",
              "      fill: #174EA6;\n",
              "    }\n",
              "\n",
              "    .colab-df-buttons div {\n",
              "      margin-bottom: 4px;\n",
              "    }\n",
              "\n",
              "    [theme=dark] .colab-df-convert {\n",
              "      background-color: #3B4455;\n",
              "      fill: #D2E3FC;\n",
              "    }\n",
              "\n",
              "    [theme=dark] .colab-df-convert:hover {\n",
              "      background-color: #434B5C;\n",
              "      box-shadow: 0px 1px 3px 1px rgba(0, 0, 0, 0.15);\n",
              "      filter: drop-shadow(0px 1px 2px rgba(0, 0, 0, 0.3));\n",
              "      fill: #FFFFFF;\n",
              "    }\n",
              "  </style>\n",
              "\n",
              "    <script>\n",
              "      const buttonEl =\n",
              "        document.querySelector('#df-c4e657e7-962e-4945-a95f-2b430975c97d button.colab-df-convert');\n",
              "      buttonEl.style.display =\n",
              "        google.colab.kernel.accessAllowed ? 'block' : 'none';\n",
              "\n",
              "      async function convertToInteractive(key) {\n",
              "        const element = document.querySelector('#df-c4e657e7-962e-4945-a95f-2b430975c97d');\n",
              "        const dataTable =\n",
              "          await google.colab.kernel.invokeFunction('convertToInteractive',\n",
              "                                                    [key], {});\n",
              "        if (!dataTable) return;\n",
              "\n",
              "        const docLinkHtml = 'Like what you see? Visit the ' +\n",
              "          '<a target=\"_blank\" href=https://colab.research.google.com/notebooks/data_table.ipynb>data table notebook</a>'\n",
              "          + ' to learn more about interactive tables.';\n",
              "        element.innerHTML = '';\n",
              "        dataTable['output_type'] = 'display_data';\n",
              "        await google.colab.output.renderOutput(dataTable, element);\n",
              "        const docLink = document.createElement('div');\n",
              "        docLink.innerHTML = docLinkHtml;\n",
              "        element.appendChild(docLink);\n",
              "      }\n",
              "    </script>\n",
              "  </div>\n",
              "\n",
              "\n",
              "<div id=\"df-161fb66e-907f-4648-9d38-2b95d709761d\">\n",
              "  <button class=\"colab-df-quickchart\" onclick=\"quickchart('df-161fb66e-907f-4648-9d38-2b95d709761d')\"\n",
              "            title=\"Suggest charts\"\n",
              "            style=\"display:none;\">\n",
              "\n",
              "<svg xmlns=\"http://www.w3.org/2000/svg\" height=\"24px\"viewBox=\"0 0 24 24\"\n",
              "     width=\"24px\">\n",
              "    <g>\n",
              "        <path d=\"M19 3H5c-1.1 0-2 .9-2 2v14c0 1.1.9 2 2 2h14c1.1 0 2-.9 2-2V5c0-1.1-.9-2-2-2zM9 17H7v-7h2v7zm4 0h-2V7h2v10zm4 0h-2v-4h2v4z\"/>\n",
              "    </g>\n",
              "</svg>\n",
              "  </button>\n",
              "\n",
              "<style>\n",
              "  .colab-df-quickchart {\n",
              "      --bg-color: #E8F0FE;\n",
              "      --fill-color: #1967D2;\n",
              "      --hover-bg-color: #E2EBFA;\n",
              "      --hover-fill-color: #174EA6;\n",
              "      --disabled-fill-color: #AAA;\n",
              "      --disabled-bg-color: #DDD;\n",
              "  }\n",
              "\n",
              "  [theme=dark] .colab-df-quickchart {\n",
              "      --bg-color: #3B4455;\n",
              "      --fill-color: #D2E3FC;\n",
              "      --hover-bg-color: #434B5C;\n",
              "      --hover-fill-color: #FFFFFF;\n",
              "      --disabled-bg-color: #3B4455;\n",
              "      --disabled-fill-color: #666;\n",
              "  }\n",
              "\n",
              "  .colab-df-quickchart {\n",
              "    background-color: var(--bg-color);\n",
              "    border: none;\n",
              "    border-radius: 50%;\n",
              "    cursor: pointer;\n",
              "    display: none;\n",
              "    fill: var(--fill-color);\n",
              "    height: 32px;\n",
              "    padding: 0;\n",
              "    width: 32px;\n",
              "  }\n",
              "\n",
              "  .colab-df-quickchart:hover {\n",
              "    background-color: var(--hover-bg-color);\n",
              "    box-shadow: 0 1px 2px rgba(60, 64, 67, 0.3), 0 1px 3px 1px rgba(60, 64, 67, 0.15);\n",
              "    fill: var(--button-hover-fill-color);\n",
              "  }\n",
              "\n",
              "  .colab-df-quickchart-complete:disabled,\n",
              "  .colab-df-quickchart-complete:disabled:hover {\n",
              "    background-color: var(--disabled-bg-color);\n",
              "    fill: var(--disabled-fill-color);\n",
              "    box-shadow: none;\n",
              "  }\n",
              "\n",
              "  .colab-df-spinner {\n",
              "    border: 2px solid var(--fill-color);\n",
              "    border-color: transparent;\n",
              "    border-bottom-color: var(--fill-color);\n",
              "    animation:\n",
              "      spin 1s steps(1) infinite;\n",
              "  }\n",
              "\n",
              "  @keyframes spin {\n",
              "    0% {\n",
              "      border-color: transparent;\n",
              "      border-bottom-color: var(--fill-color);\n",
              "      border-left-color: var(--fill-color);\n",
              "    }\n",
              "    20% {\n",
              "      border-color: transparent;\n",
              "      border-left-color: var(--fill-color);\n",
              "      border-top-color: var(--fill-color);\n",
              "    }\n",
              "    30% {\n",
              "      border-color: transparent;\n",
              "      border-left-color: var(--fill-color);\n",
              "      border-top-color: var(--fill-color);\n",
              "      border-right-color: var(--fill-color);\n",
              "    }\n",
              "    40% {\n",
              "      border-color: transparent;\n",
              "      border-right-color: var(--fill-color);\n",
              "      border-top-color: var(--fill-color);\n",
              "    }\n",
              "    60% {\n",
              "      border-color: transparent;\n",
              "      border-right-color: var(--fill-color);\n",
              "    }\n",
              "    80% {\n",
              "      border-color: transparent;\n",
              "      border-right-color: var(--fill-color);\n",
              "      border-bottom-color: var(--fill-color);\n",
              "    }\n",
              "    90% {\n",
              "      border-color: transparent;\n",
              "      border-bottom-color: var(--fill-color);\n",
              "    }\n",
              "  }\n",
              "</style>\n",
              "\n",
              "  <script>\n",
              "    async function quickchart(key) {\n",
              "      const quickchartButtonEl =\n",
              "        document.querySelector('#' + key + ' button');\n",
              "      quickchartButtonEl.disabled = true;  // To prevent multiple clicks.\n",
              "      quickchartButtonEl.classList.add('colab-df-spinner');\n",
              "      try {\n",
              "        const charts = await google.colab.kernel.invokeFunction(\n",
              "            'suggestCharts', [key], {});\n",
              "      } catch (error) {\n",
              "        console.error('Error during call to suggestCharts:', error);\n",
              "      }\n",
              "      quickchartButtonEl.classList.remove('colab-df-spinner');\n",
              "      quickchartButtonEl.classList.add('colab-df-quickchart-complete');\n",
              "    }\n",
              "    (() => {\n",
              "      let quickchartButtonEl =\n",
              "        document.querySelector('#df-161fb66e-907f-4648-9d38-2b95d709761d button');\n",
              "      quickchartButtonEl.style.display =\n",
              "        google.colab.kernel.accessAllowed ? 'block' : 'none';\n",
              "    })();\n",
              "  </script>\n",
              "</div>\n",
              "\n",
              "    </div>\n",
              "  </div>\n"
            ]
          },
          "metadata": {},
          "execution_count": 5
        }
      ]
    },
    {
      "cell_type": "markdown",
      "source": [
        "1. Ao visualizar a base você percebeu que seria melhor alterar o nome de algumas colunas. Mude o ‘ID’ para ‘Identificador’, corrija o nome da coluna que indica a pressão sanguínea, mude a coluna ‘Ocupação’ para ‘Profissão’, a coluna ‘Categoria BMI’ está em parte em inglês, substitua para ‘Categoria IMC’."
      ],
      "metadata": {
        "id": "0QzzFSWw4ceZ"
      }
    },
    {
      "cell_type": "code",
      "source": [
        "df = df.rename(columns={'ID': 'Identificador', 'Pressão sanguíneaaaa': 'Pressão Sanguínea', 'Ocupação': 'Profissão', 'Categoria BMI': 'Categoria IMC'})"
      ],
      "metadata": {
        "id": "FZK7rqjA4Ijb"
      },
      "execution_count": null,
      "outputs": []
    },
    {
      "cell_type": "markdown",
      "source": [
        "2. Qual é a média, a moda e a mediana de horas de sono para cada uma das profissões? [‘mean’, np.median, pd.Series.mod]"
      ],
      "metadata": {
        "id": "a3OaXtWs5p2U"
      }
    },
    {
      "cell_type": "code",
      "source": [
        "media_sono = df.groupby('Profissão')['Duração do sono'].mean()"
      ],
      "metadata": {
        "id": "zt6cCS325I6J"
      },
      "execution_count": null,
      "outputs": []
    },
    {
      "cell_type": "code",
      "source": [
        "mediana_sono = df.groupby('Profissão')['Duração do sono'].median()"
      ],
      "metadata": {
        "id": "Ibp7say-v7Ge"
      },
      "execution_count": null,
      "outputs": []
    },
    {
      "cell_type": "code",
      "source": [
        "moda_sono = df.groupby('Profissão')['Duração do sono'].apply(lambda x: x.mode())"
      ],
      "metadata": {
        "id": "-be1yt4ywKQt"
      },
      "execution_count": null,
      "outputs": []
    },
    {
      "cell_type": "code",
      "source": [
        "print(\"Média de horas de sono por profissão:\")\n",
        "print(media_sono)\n",
        "print(\"\\nMediana de horas de sono por profissão:\")\n",
        "print(mediana_sono)\n",
        "print(\"\\nModa de horas de sono por profissão:\")\n",
        "print(moda_sono)"
      ],
      "metadata": {
        "colab": {
          "base_uri": "https://localhost:8080/"
        },
        "id": "CfDez3WpwUaJ",
        "outputId": "aa155c30-1452-454b-f736-58fecbacfcff"
      },
      "execution_count": null,
      "outputs": [
        {
          "output_type": "stream",
          "name": "stdout",
          "text": [
            "Média de horas de sono por profissão:\n",
            "Profissão\n",
            "Advogado(a)                7.410638\n",
            "Cientista                  6.000000\n",
            "Contador(a)                7.113514\n",
            "Enfermeiro(a)              7.048611\n",
            "Eng. de Software           6.750000\n",
            "Engenheiro(a)              7.987302\n",
            "Gerente                    6.900000\n",
            "Médico(a)                  6.970423\n",
            "Pessoa Vendendora          6.403125\n",
            "Professor(a)               6.690000\n",
            "Representante de Vendas    5.900000\n",
            "Name: Duração do sono, dtype: float64\n",
            "\n",
            "Mediana de horas de sono por profissão:\n",
            "Profissão\n",
            "Advogado(a)                7.3\n",
            "Cientista                  6.0\n",
            "Contador(a)                7.2\n",
            "Enfermeiro(a)              6.5\n",
            "Eng. de Software           6.8\n",
            "Engenheiro(a)              8.3\n",
            "Gerente                    6.9\n",
            "Médico(a)                  7.6\n",
            "Pessoa Vendendora          6.4\n",
            "Professor(a)               6.6\n",
            "Representante de Vendas    5.9\n",
            "Name: Duração do sono, dtype: float64\n",
            "\n",
            "Moda de horas de sono por profissão:\n",
            "Profissão                 \n",
            "Advogado(a)              0    7.2\n",
            "Cientista                0    5.8\n",
            "                         1    6.2\n",
            "Contador(a)              0    7.2\n",
            "Enfermeiro(a)            0    6.1\n",
            "Eng. de Software         0    7.5\n",
            "Engenheiro(a)            0    8.4\n",
            "Gerente                  0    6.9\n",
            "Médico(a)                0    6.0\n",
            "Pessoa Vendendora        0    6.5\n",
            "Professor(a)             0    6.6\n",
            "Representante de Vendas  0    5.9\n",
            "Name: Duração do sono, dtype: float64\n"
          ]
        }
      ]
    },
    {
      "cell_type": "markdown",
      "source": [
        "3. Das pessoas que atuam com engenharia de software qual a porcentagem de obesos?"
      ],
      "metadata": {
        "id": "UC_dplgOwml9"
      }
    },
    {
      "cell_type": "code",
      "source": [
        "eng_software = df[df['Profissão'] == 'Eng. de Software']"
      ],
      "metadata": {
        "id": "YI6m0rSVwaxu"
      },
      "execution_count": null,
      "outputs": []
    },
    {
      "cell_type": "code",
      "source": [
        "porcentagem_obesos = (eng_software['Categoria IMC'] == 'Obesidade').mean() * 100"
      ],
      "metadata": {
        "id": "vU0H8AlOxIf3"
      },
      "execution_count": null,
      "outputs": []
    },
    {
      "cell_type": "code",
      "source": [
        "print(\"A porcentagem de pessoas que atuam com engenharia de software e possuem obesidade é:\")\n",
        "print(porcentagem_obesos,\"%\")"
      ],
      "metadata": {
        "colab": {
          "base_uri": "https://localhost:8080/"
        },
        "id": "V9hcAOSsKPfY",
        "outputId": "fff49e4e-51bb-47fd-e7aa-dc2c60f0b802"
      },
      "execution_count": null,
      "outputs": [
        {
          "output_type": "stream",
          "name": "stdout",
          "text": [
            "A porcentagem de pessoas que atuam com engenharia de software e possuem obesidade é:\n",
            "25.0 %\n"
          ]
        }
      ]
    },
    {
      "cell_type": "markdown",
      "source": [
        "4. De acordo com os dados, advogar ou ser representante de vendas faz você dormir menos? (Use o método ‘isin’, considere a média)"
      ],
      "metadata": {
        "id": "mPFvU-Bhx7Ez"
      }
    },
    {
      "cell_type": "code",
      "source": [
        "df_filtro = df[df['Profissão'].isin(['Advogado', 'Representante de Vendas'])]"
      ],
      "metadata": {
        "id": "JPrkGkt0xOnL"
      },
      "execution_count": null,
      "outputs": []
    },
    {
      "cell_type": "code",
      "source": [
        "media_horas_sono = df_filtro.groupby('Profissão')['Duração do sono'].mean()"
      ],
      "metadata": {
        "id": "GPvvkj5Dzpvo"
      },
      "execution_count": null,
      "outputs": []
    },
    {
      "cell_type": "code",
      "source": [
        "print(\"Segue resultado:\")\n",
        "print(media_horas_sono)"
      ],
      "metadata": {
        "colab": {
          "base_uri": "https://localhost:8080/"
        },
        "id": "oC_no2I_z2AA",
        "outputId": "132cfabc-63f5-4ad0-8502-94e88b169cb2"
      },
      "execution_count": null,
      "outputs": [
        {
          "output_type": "stream",
          "name": "stdout",
          "text": [
            "Segue resultado:\n",
            "Profissão\n",
            "Representante de Vendas    5.9\n",
            "Name: Duração do sono, dtype: float64\n"
          ]
        }
      ]
    },
    {
      "cell_type": "markdown",
      "source": [
        "5. Entre quem fez enfermagem e quem fez medicina, quem tem menos horas de sono? (Use o método ‘isin’, considere a média)"
      ],
      "metadata": {
        "id": "R73YBn7g0muX"
      }
    },
    {
      "cell_type": "code",
      "source": [
        "df_filtro2 = df[df['Profissão'].isin(['Médico(a)', 'Enfermagem'])]"
      ],
      "metadata": {
        "id": "8Zc74Urj0Byx"
      },
      "execution_count": null,
      "outputs": []
    },
    {
      "cell_type": "code",
      "source": [
        "media_horas_sono2 = df_filtro2.groupby('Profissão')['Duração do sono'].mean()"
      ],
      "metadata": {
        "id": "nGukv4rH02ip"
      },
      "execution_count": null,
      "outputs": []
    },
    {
      "cell_type": "code",
      "source": [
        "print(\"Segue resultado:\")\n",
        "print(media_horas_sono2.round(2))"
      ],
      "metadata": {
        "colab": {
          "base_uri": "https://localhost:8080/"
        },
        "id": "pF2KmtrR0-eM",
        "outputId": "6f03b6c9-572a-4406-dcc7-9ca7bb06c461"
      },
      "execution_count": null,
      "outputs": [
        {
          "output_type": "stream",
          "name": "stdout",
          "text": [
            "Segue resultado:\n",
            "Profissão\n",
            "Médico(a)    6.97\n",
            "Name: Duração do sono, dtype: float64\n"
          ]
        }
      ]
    },
    {
      "cell_type": "markdown",
      "source": [
        "6. Faça um subconjunto com as colunas Identificador, Gênero, Idade, Pressão sanguínea e Frequência cardíaca."
      ],
      "metadata": {
        "id": "PiyMeo7M2IdE"
      }
    },
    {
      "cell_type": "code",
      "source": [
        "subconjunto = df.loc[:, ['Identificador', 'Gênero', 'Idade', 'Pressão Sanguínea', 'Frequência cardíaca']]"
      ],
      "metadata": {
        "id": "5GOx9Fq51DO0"
      },
      "execution_count": null,
      "outputs": []
    },
    {
      "cell_type": "code",
      "source": [
        "print(subconjunto)"
      ],
      "metadata": {
        "colab": {
          "base_uri": "https://localhost:8080/"
        },
        "id": "ssJJWoQ-3zvv",
        "outputId": "e4166aa6-6041-477f-f543-9720eb6a1730"
      },
      "execution_count": null,
      "outputs": [
        {
          "output_type": "stream",
          "name": "stdout",
          "text": [
            "     Identificador  Gênero  Idade Pressão Sanguínea  Frequência cardíaca\n",
            "0                1   Homem     27            126/83                   77\n",
            "1                2   Homem     28            125/80                   75\n",
            "2                3   Homem     28            125/80                   75\n",
            "3                4   Homem     28            140/90                   85\n",
            "4                5   Homem     28            140/90                   85\n",
            "..             ...     ...    ...               ...                  ...\n",
            "368            369  Mulher     59            140/95                   68\n",
            "369            370  Mulher     59            140/95                   68\n",
            "370            371  Mulher     59            140/95                   68\n",
            "371            372  Mulher     59            140/95                   68\n",
            "372            373  Mulher     59            140/95                   68\n",
            "\n",
            "[373 rows x 5 columns]\n"
          ]
        }
      ]
    },
    {
      "cell_type": "markdown",
      "source": [
        "7. Descubra qual a profissão menos frequente no conjunto. (Use value_counts)"
      ],
      "metadata": {
        "id": "V6ouTyf6Jjtk"
      }
    },
    {
      "cell_type": "code",
      "source": [
        "contagem_profissoes = df['Profissão'].value_counts()"
      ],
      "metadata": {
        "id": "F9DKtDYnJeDA"
      },
      "execution_count": null,
      "outputs": []
    },
    {
      "cell_type": "code",
      "source": [
        "profissao_menos_frequente = contagem_profissoes.idxmin()"
      ],
      "metadata": {
        "id": "euy90CBrJ3uT"
      },
      "execution_count": null,
      "outputs": []
    },
    {
      "cell_type": "code",
      "source": [
        "print(\"A profissão menos frequente no conjunto é:\")\n",
        "print(profissao_menos_frequente)"
      ],
      "metadata": {
        "colab": {
          "base_uri": "https://localhost:8080/"
        },
        "id": "yJ8WdlpLJ728",
        "outputId": "34dec323-6796-42b1-ead4-a580d30f9088"
      },
      "execution_count": null,
      "outputs": [
        {
          "output_type": "stream",
          "name": "stdout",
          "text": [
            "A profissão menos frequente no conjunto é:\n",
            "Gerente\n"
          ]
        }
      ]
    },
    {
      "cell_type": "markdown",
      "source": [
        "8. Quem tem maior pressão sanguínea média, homens ou mulheres? (Considere a média)"
      ],
      "metadata": {
        "id": "hbzuXIKcKzkS"
      }
    },
    {
      "cell_type": "code",
      "source": [
        "df[['Pressão Sanguínea Sistólica', 'Pressão Sanguínea Diastólica']] = df['Pressão Sanguínea'].str.split('/', expand=True).astype(int)"
      ],
      "metadata": {
        "id": "HNimMgnMLUP5"
      },
      "execution_count": null,
      "outputs": []
    },
    {
      "cell_type": "code",
      "source": [
        "homens = df[df['Gênero'] == 'Homem']"
      ],
      "metadata": {
        "id": "8_f4vyoi-8kV"
      },
      "execution_count": null,
      "outputs": []
    },
    {
      "cell_type": "code",
      "source": [
        "media_pressao_sanguinea_sistolica_homens = homens['Pressão Sanguínea Sistólica'].mean()"
      ],
      "metadata": {
        "id": "tB8rTwUk-9Ms"
      },
      "execution_count": null,
      "outputs": []
    },
    {
      "cell_type": "code",
      "source": [
        "media_pressao_sanguinea_diastolica_homens = homens['Pressão Sanguínea Diastólica'].mean()"
      ],
      "metadata": {
        "id": "mDRFoq8Y_C9q"
      },
      "execution_count": null,
      "outputs": []
    },
    {
      "cell_type": "code",
      "source": [
        "mulheres = df[df['Gênero'] == 'Mulher']"
      ],
      "metadata": {
        "id": "e2A4mGUa_D04"
      },
      "execution_count": null,
      "outputs": []
    },
    {
      "cell_type": "code",
      "source": [
        "media_pressao_sanguinea_sistolica_mulheres = mulheres['Pressão Sanguínea Sistólica'].mean()"
      ],
      "metadata": {
        "id": "vJOcnTQi_HoZ"
      },
      "execution_count": null,
      "outputs": []
    },
    {
      "cell_type": "code",
      "source": [
        "media_pressao_sanguinea_diastolica_mulheres = mulheres['Pressão Sanguínea Diastólica'].mean()"
      ],
      "metadata": {
        "id": "VIQymfVh_N4o"
      },
      "execution_count": null,
      "outputs": []
    },
    {
      "cell_type": "code",
      "source": [
        "if (media_pressao_sanguinea_sistolica_homens + media_pressao_sanguinea_diastolica_homens) > (media_pressao_sanguinea_sistolica_mulheres + media_pressao_sanguinea_diastolica_mulheres):\n",
        "    print(\"Homens têm uma média maior de pressão sanguínea.\")\n",
        "elif (media_pressao_sanguinea_sistolica_homens + media_pressao_sanguinea_diastolica_homens) < (media_pressao_sanguinea_sistolica_mulheres + media_pressao_sanguinea_diastolica_mulheres):\n",
        "    print(\"Mulheres têm uma média maior de pressão sanguínea.\")\n",
        "else:\n",
        "    print(\"Homens e mulheres têm a mesma média de pressão sanguínea.\")"
      ],
      "metadata": {
        "colab": {
          "base_uri": "https://localhost:8080/"
        },
        "id": "0wUv9Qmq_Q1c",
        "outputId": "598e59af-cabe-4a96-eba6-210a396b8086"
      },
      "execution_count": null,
      "outputs": [
        {
          "output_type": "stream",
          "name": "stdout",
          "text": [
            "Mulheres têm uma média maior de pressão sanguínea.\n"
          ]
        }
      ]
    },
    {
      "cell_type": "markdown",
      "source": [
        "9. É predominante entre os participantes dormir 8 horas por dia (considere usar Moda como medida)?"
      ],
      "metadata": {
        "id": "LgwzyMSZPFE3"
      }
    },
    {
      "cell_type": "code",
      "source": [
        "df['Duração do sono'] = df['Duração do sono'].astype(float)"
      ],
      "metadata": {
        "id": "jPoWAXtRQwoR"
      },
      "execution_count": null,
      "outputs": []
    },
    {
      "cell_type": "code",
      "source": [
        "frequencia_horas_sono = df['Duração do sono'].value_counts(normalize=True)"
      ],
      "metadata": {
        "id": "YiFAyw0SOW-I"
      },
      "execution_count": null,
      "outputs": []
    },
    {
      "cell_type": "code",
      "source": [
        "intervalo_mais_frequente = frequencia_horas_sono.idxmax()"
      ],
      "metadata": {
        "id": "_EOhtC9EAcxX"
      },
      "execution_count": null,
      "outputs": []
    },
    {
      "cell_type": "code",
      "source": [
        "if intervalo_mais_frequente == 8:\n",
        "    print(\"É predominante entre os participantes dormir 8 horas por dia.\")\n",
        "else:\n",
        "    print(\"Não é predominante entre os participantes dormir 8 horas por dia.\")"
      ],
      "metadata": {
        "colab": {
          "base_uri": "https://localhost:8080/"
        },
        "id": "tsskfYkzPadQ",
        "outputId": "65526c92-0d07-4a4d-c8bb-775401a495dd"
      },
      "execution_count": null,
      "outputs": [
        {
          "output_type": "stream",
          "name": "stdout",
          "text": [
            "Não é predominante entre os participantes dormir 8 horas por dia.\n"
          ]
        }
      ]
    },
    {
      "cell_type": "markdown",
      "source": [
        "\n",
        "10. Pessoas com frequências cardíacas acima de 70 dão mais passos que pessoas com frequência cardíaca menor ou igual a 70? (Use a média)"
      ],
      "metadata": {
        "id": "5m0ufVu5P9gl"
      }
    },
    {
      "cell_type": "code",
      "source": [
        "media_passos_frequencias_acima_de_70 = df[df['Frequência cardíaca'] > 70]['Passos diários'].mean()"
      ],
      "metadata": {
        "id": "JQsW-_RyP5rR"
      },
      "execution_count": null,
      "outputs": []
    },
    {
      "cell_type": "code",
      "source": [
        "media_passos_frequencias_70_ou_menos = df[df['Frequência cardíaca'] <= 70]['Passos diários'].mean()"
      ],
      "metadata": {
        "id": "A5l2wYbAPfji"
      },
      "execution_count": null,
      "outputs": []
    },
    {
      "cell_type": "code",
      "source": [
        "if media_passos_frequencias_acima_de_70 > media_passos_frequencias_70_ou_menos:\n",
        "    print(\"Pessoas com frequências cardíacas acima de 70 dão mais passos que pessoas com frequência cardíaca menor ou igual a 70.\")\n",
        "elif media_passos_frequencias_acima_de_70 < media_passos_frequencias_70_ou_menos:\n",
        "    print(\"Pessoas com frequências cardíacas acima de 70 não dão mais passos que pessoas com frequência cardíaca menor ou igual a 70.\")\n",
        "else:\n",
        "    print(\"Pessoas com frequências cardíacas acima de 70 dão o mesmo número de passos que pessoas com frequência cardíaca menor ou igual a 70.\")"
      ],
      "metadata": {
        "colab": {
          "base_uri": "https://localhost:8080/"
        },
        "id": "UZauXUccBKKc",
        "outputId": "ba8b546e-0c4f-4e8e-ac45-a4d716565940"
      },
      "execution_count": null,
      "outputs": [
        {
          "output_type": "stream",
          "name": "stdout",
          "text": [
            "Pessoas com frequências cardíacas acima de 70 não dão mais passos que pessoas com frequência cardíaca menor ou igual a 70.\n"
          ]
        }
      ]
    }
  ]
}